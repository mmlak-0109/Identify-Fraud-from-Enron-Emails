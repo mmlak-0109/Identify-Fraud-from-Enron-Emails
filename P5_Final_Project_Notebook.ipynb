{
 "cells": [
  {
   "cell_type": "markdown",
   "metadata": {},
   "source": [
    "# Identify Fraud from Enron Email\n",
    "#### Matthew Miller \n",
    "#### April 4, 2017"
   ]
  },
  {
   "cell_type": "markdown",
   "metadata": {},
   "source": [
    "## Project Overview\n",
    "\n",
    "In 2000, Enron was one of the largest companies in the United States. By 2002, it had collapsed into bankruptcy due to widespread corporate fraud. In the resulting Federal investigation, a significant amount of typically confidential information entered into the public record, including tens of thousands of emails and detailed financial data for top executives. In this project, I will build a person of interest identifier based on financial and email data made public as a result of the Enron scandal. The data used has been combined with a hand-generated list of persons of interest in the fraud case, which means individuals who were indicted, reached a settlement or plea deal with the government, or testified in exchange for prosecution immunity. ([Citation](https://classroom.udacity.com/nanodegrees/nd002/parts/0021345409/modules/317428862475461/lessons/3174288624239847/concepts/31803986370923))"
   ]
  },
  {
   "cell_type": "markdown",
   "metadata": {},
   "source": [
    "## Data Exploration and Outlier Investigation\n",
    "\n",
    "To begin my investigation, I am going to explore the data to get a feel for the information available."
   ]
  },
  {
   "cell_type": "markdown",
   "metadata": {},
   "source": [
    "### Data Exploration"
   ]
  },
  {
   "cell_type": "code",
   "execution_count": 3,
   "metadata": {
    "collapsed": false
   },
   "outputs": [
    {
     "name": "stdout",
     "output_type": "stream",
     "text": [
      "Size Of The Enron Dataset: 146 people\n",
      "People in the Enron Dataset: ['METTS MARK', 'BAXTER JOHN C', 'ELLIOTT STEVEN', 'CORDES WILLIAM R', 'HANNON KEVIN P', 'MORDAUNT KRISTINA M', 'MEYER ROCKFORD G', 'MCMAHON JEFFREY', 'HORTON STANLEY C', 'PIPER GREGORY F', 'HUMPHREY GENE E', 'UMANOFF ADAM S', 'BLACHMAN JEREMY M', 'SUNDE MARTIN', 'GIBBS DANA R', 'LOWRY CHARLES P', 'COLWELL WESLEY', 'MULLER MARK S', 'JACKSON CHARLENE R', 'WESTFAHL RICHARD K', 'WALTERS GARETH W', 'WALLS JR ROBERT H', 'KITCHEN LOUISE', 'CHAN RONNIE', 'BELFER ROBERT', 'SHANKMAN JEFFREY A', 'WODRASKA JOHN', 'BERGSIEKER RICHARD P', 'URQUHART JOHN A', 'BIBI PHILIPPE A', 'RIEKER PAULA H', 'WHALEY DAVID A', 'BECK SALLY W', 'HAUG DAVID L', 'ECHOLS JOHN B', 'MENDELSOHN JOHN', 'HICKERSON GARY J', 'CLINE KENNETH W', 'LEWIS RICHARD', 'HAYES ROBERT E', 'MCCARTY DANNY J', 'KOPPER MICHAEL J', 'LEFF DANIEL P', 'LAVORATO JOHN J', 'BERBERIAN DAVID', 'DETMERING TIMOTHY J', 'WAKEHAM JOHN', 'POWERS WILLIAM', 'GOLD JOSEPH', 'BANNANTINE JAMES M', 'DUNCAN JOHN H', 'SHAPIRO RICHARD S', 'SHERRIFF JOHN R', 'SHELBY REX', 'LEMAISTRE CHARLES', 'DEFFNER JOSEPH M', 'KISHKILL JOSEPH G', 'WHALLEY LAWRENCE G', 'MCCONNELL MICHAEL S', 'PIRO JIM', 'DELAINEY DAVID W', 'SULLIVAN-SHAKLOVITZ COLLEEN', 'WROBEL BRUCE', 'LINDHOLM TOD A', 'MEYER JEROME J', 'LAY KENNETH L', 'BUTTS ROBERT H', 'OLSON CINDY K', 'MCDONALD REBECCA', 'CUMBERLAND MICHAEL S', 'GAHN ROBERT S', 'MCCLELLAN GEORGE', 'HERMANN ROBERT J', 'SCRIMSHAW MATTHEW', 'GATHMANN WILLIAM D', 'HAEDICKE MARK E', 'BOWEN JR RAYMOND M', 'GILLIS JOHN', 'FITZGERALD JAY L', 'MORAN MICHAEL P', 'REDMOND BRIAN L', 'BAZELIDES PHILIP J', 'BELDEN TIMOTHY N', 'DURAN WILLIAM D', 'THORN TERENCE H', 'FASTOW ANDREW S', 'FOY JOE', 'CALGER CHRISTOPHER F', 'RICE KENNETH D', 'KAMINSKI WINCENTY J', 'LOCKHART EUGENE E', 'COX DAVID', 'OVERDYKE JR JERE C', 'PEREIRA PAULO V. FERRAZ', 'STABLER FRANK', 'SKILLING JEFFREY K', 'BLAKE JR. NORMAN P', 'SHERRICK JEFFREY B', 'PRENTICE JAMES', 'GRAY RODNEY', 'PICKERING MARK R', 'THE TRAVEL AGENCY IN THE PARK', 'NOLES JAMES L', 'KEAN STEVEN J', 'TOTAL', 'FOWLER PEGGY', 'WASAFF GEORGE', 'WHITE JR THOMAS E', 'CHRISTODOULOU DIOMEDES', 'ALLEN PHILLIP K', 'SHARP VICTORIA T', 'JAEDICKE ROBERT', 'WINOKUR JR. HERBERT S', 'BROWN MICHAEL', 'BADUM JAMES P', 'HUGHES JAMES A', 'REYNOLDS LAWRENCE', 'DIMICHELE RICHARD G', 'BHATNAGAR SANJAY', 'CARTER REBECCA C', 'BUCHANAN HAROLD G', 'YEAP SOON', 'MURRAY JULIA H', 'GARLAND C KEVIN', 'DODSON KEITH', 'YEAGER F SCOTT', 'HIRKO JOSEPH', 'DIETRICH JANET R', 'DERRICK JR. JAMES V', 'FREVERT MARK A', 'PAI LOU L', 'BAY FRANKLIN R', 'HAYSLETT RODERICK J', 'FUGH JOHN L', 'FALLON JAMES B', 'KOENIG MARK E', 'SAVAGE FRANK', 'IZZO LAWRENCE L', 'TILNEY ELIZABETH A', 'MARTIN AMANDA K', 'BUY RICHARD B', 'GRAMM WENDY L', 'CAUSEY RICHARD A', 'TAYLOR MITCHELL S', 'DONAHUE JR JEFFREY M', 'GLISAN JR BEN F']\n"
     ]
    }
   ],
   "source": [
    "# %load ../ud120-projects-master/datasets_questions/explore_enron_data.py\n",
    "#!/home/matthew/anaconda2/bin/python\n",
    "\n",
    "\"\"\" \n",
    "    Starter code for exploring the Enron dataset (emails + finances);\n",
    "    loads up the dataset (pickled dict of dicts).\n",
    "\n",
    "    The dataset has the form:\n",
    "    enron_data[\"LASTNAME FIRSTNAME MIDDLEINITIAL\"] = { features_dict }\n",
    "\n",
    "    {features_dict} is a dictionary of features associated with that person.\n",
    "    You should explore features_dict as part of the mini-project,\n",
    "    but here's an example to get you started:\n",
    "\n",
    "    enron_data[\"SKILLING JEFFREY K\"][\"bonus\"] = 5600000\n",
    "    \n",
    "\"\"\"\n",
    "\n",
    "import pickle\n",
    "\n",
    "enron_data = pickle.load(open(\"../final_project/final_project_dataset.pkl\", \"r\"))\n",
    "\n",
    "print \"Size Of The Enron Dataset:\", len(enron_data), \"people\"\n",
    "\n",
    "print \"People in the Enron Dataset:\", [name for name in enron_data.keys()]"
   ]
  },
  {
   "cell_type": "code",
   "execution_count": 4,
   "metadata": {
    "collapsed": false
   },
   "outputs": [
    {
     "name": "stdout",
     "output_type": "stream",
     "text": [
      "Number of Features in the Enron Dataset: 21\n",
      "Features in the Enron Dataset: ['salary', 'to_messages', 'deferral_payments', 'total_payments', 'exercised_stock_options', 'bonus', 'restricted_stock', 'shared_receipt_with_poi', 'restricted_stock_deferred', 'total_stock_value', 'expenses', 'loan_advances', 'from_messages', 'other', 'from_this_person_to_poi', 'poi', 'director_fees', 'deferred_income', 'long_term_incentive', 'email_address', 'from_poi_to_this_person']\n"
     ]
    }
   ],
   "source": [
    "# Features In The Enron Dataset\n",
    "    \n",
    "print \"Number of Features in the Enron Dataset:\", len(enron_data.values()[0])\n",
    "\n",
    "print \"Features in the Enron Dataset:\", [value for value in enron_data.values()[0]]"
   ]
  },
  {
   "cell_type": "code",
   "execution_count": 5,
   "metadata": {
    "collapsed": false
   },
   "outputs": [
    {
     "name": "stdout",
     "output_type": "stream",
     "text": [
      "Number of POIs In The Enron Data: 18\n",
      "POI List: ['HANNON KEVIN P', 'COLWELL WESLEY', 'RIEKER PAULA H', 'KOPPER MICHAEL J', 'SHELBY REX', 'DELAINEY DAVID W', 'LAY KENNETH L', 'BOWEN JR RAYMOND M', 'BELDEN TIMOTHY N', 'FASTOW ANDREW S', 'CALGER CHRISTOPHER F', 'RICE KENNETH D', 'SKILLING JEFFREY K', 'YEAGER F SCOTT', 'HIRKO JOSEPH', 'KOENIG MARK E', 'CAUSEY RICHARD A', 'GLISAN JR BEN F']\n"
     ]
    }
   ],
   "source": [
    "# Finding POIs In The Enron Data\n",
    "\n",
    "poi_list = []\n",
    "for name in enron_data.keys(): \n",
    "    if enron_data[name][\"poi\"] == 1:\n",
    "        poi_list.append(name)\n",
    "print \"Number of POIs In The Enron Data:\", len(poi_list)\n",
    "\n",
    "POIs = [name for name in enron_data.keys() if enron_data[name][\"poi\"] == 1]\n",
    "\n",
    "print \"POI List:\", POIs"
   ]
  },
  {
   "cell_type": "markdown",
   "metadata": {},
   "source": [
    "In summary, the Enron Data set has the following characteristics:\n",
    "\n",
    "- 146 people\n",
    "    - 18 of which, or ~12%, are POIs (the POI to Non-POI ratio is very lopsided)\n",
    "- 21 features"
   ]
  },
  {
   "cell_type": "markdown",
   "metadata": {},
   "source": [
    "### Outlier Investigation"
   ]
  },
  {
   "cell_type": "markdown",
   "metadata": {},
   "source": [
    "For my outlier investigation, I have decided to look at the features \"salary and \"bonus\".  I will plot the data points to get a look at the distribution of the data and see if any data points pop out at me."
   ]
  },
  {
   "cell_type": "code",
   "execution_count": 6,
   "metadata": {
    "collapsed": false
   },
   "outputs": [
    {
     "data": {
      "image/png": "[encoded data removed]",
      "text/plain": [
       "<matplotlib.figure.Figure at 0x7fcddf7d49d0>"
      ]
     },
     "metadata": {},
     "output_type": "display_data"
    }
   ],
   "source": [
    "# %load ../ud120-projects-master/outliers/enron_outliers.py\n",
    "#!/home/matthew/anaconda2/bin/python\n",
    "\n",
    "import sys\n",
    "import matplotlib.pyplot\n",
    "sys.path.append(\"../tools\")\n",
    "from feature_format import featureFormat, targetFeatureSplit\n",
    "\n",
    "# I have not included \"email_address\" in the features list\n",
    "features_list = ['salary', 'bonus']\n",
    "\n",
    "data = featureFormat(enron_data, features_list)\n",
    "\n",
    "for point in data:\n",
    "    salary = point[0]\n",
    "    bonus = point[1]\n",
    "    matplotlib.pyplot.scatter(salary, bonus)\n",
    "\n",
    "matplotlib.pyplot.xlabel(\"salary\")\n",
    "matplotlib.pyplot.ylabel(\"bonus\")\n",
    "matplotlib.pyplot.show()\n",
    "\n",
    "################################\n",
    "\n",
    "# for point in data:\n",
    "#     total_payments = point[1]\n",
    "#     total_stock_value = point[4]\n",
    "#     matplotlib.pyplot.scatter( total_payments, total_stock_value )\n",
    "\n",
    "# matplotlib.pyplot.xlabel(\"total_payments\")\n",
    "# matplotlib.pyplot.ylabel(\"total_stock_value\")\n",
    "# matplotlib.pyplot.show()\n",
    "\n",
    "# name_list2 = [name for name in data_dict.keys() if data_dict[name][\"total_payments\"] != 'NaN' and data_dict[name][\"total_payments\"] >= 100000000 and data_dict[name][\"bonus\"] >= 5000000]\n",
    "# print name_list"
   ]
  },
  {
   "cell_type": "markdown",
   "metadata": {},
   "source": [
    "There is definitely something wrong here.  Most all of the data points are clumped together at the lower left and one data point is way off by itself in the top right.  Let's find out what that point is and see about removing it.  In order to figure out what is, I will first put all the salaries in a list and then return the name of the person who has the highest salary."
   ]
  },
  {
   "cell_type": "code",
   "execution_count": 7,
   "metadata": {
    "collapsed": false
   },
   "outputs": [
    {
     "name": "stdout",
     "output_type": "stream",
     "text": [
      "Salary Outlier: ['TOTAL']\n"
     ]
    }
   ],
   "source": [
    "salary_list = [enron_data[name]['salary'] for name in enron_data if type(enron_data[name]['salary']) == int]\n",
    "print \"Salary Outlier:\", [name for name in enron_data if enron_data[name]['salary'] == max(salary_list)]"
   ]
  },
  {
   "cell_type": "markdown",
   "metadata": {},
   "source": [
    "Well, that's interesting.  It turns out the outlier was not a person at all, but instead seems to be the value for the total of all of the salaries in the data set.  That is not a data point I need, so I will remove it.  After I remove it, I will print out the plot again and check what the highest points are for bonus and salary to make sure they are legitimate data points."
   ]
  },
  {
   "cell_type": "code",
   "execution_count": 8,
   "metadata": {
    "collapsed": false
   },
   "outputs": [
    {
     "data": {
      "text/plain": [
       "{'bonus': 97343619,\n",
       " 'deferral_payments': 32083396,\n",
       " 'deferred_income': -27992891,\n",
       " 'director_fees': 1398517,\n",
       " 'email_address': 'NaN',\n",
       " 'exercised_stock_options': 311764000,\n",
       " 'expenses': 5235198,\n",
       " 'from_messages': 'NaN',\n",
       " 'from_poi_to_this_person': 'NaN',\n",
       " 'from_this_person_to_poi': 'NaN',\n",
       " 'loan_advances': 83925000,\n",
       " 'long_term_incentive': 48521928,\n",
       " 'other': 42667589,\n",
       " 'poi': False,\n",
       " 'restricted_stock': 130322299,\n",
       " 'restricted_stock_deferred': -7576788,\n",
       " 'salary': 26704229,\n",
       " 'shared_receipt_with_poi': 'NaN',\n",
       " 'to_messages': 'NaN',\n",
       " 'total_payments': 309886585,\n",
       " 'total_stock_value': 434509511}"
      ]
     },
     "execution_count": 8,
     "metadata": {},
     "output_type": "execute_result"
    }
   ],
   "source": [
    "# Popping outlier\n",
    "enron_data.pop(\"TOTAL\")"
   ]
  },
  {
   "cell_type": "code",
   "execution_count": 9,
   "metadata": {
    "collapsed": false
   },
   "outputs": [
    {
     "data": {
      "image/png": "[encoded data removed]",
      "text/plain": [
       "<matplotlib.figure.Figure at 0x7fce05ff5510>"
      ]
     },
     "metadata": {},
     "output_type": "display_data"
    }
   ],
   "source": [
    "data = featureFormat(enron_data, features_list)\n",
    "\n",
    "for point in data:\n",
    "    salary = point[0]\n",
    "    bonus = point[1]\n",
    "    matplotlib.pyplot.scatter(salary, bonus)\n",
    "\n",
    "matplotlib.pyplot.xlabel(\"salary\")\n",
    "matplotlib.pyplot.ylabel(\"bonus\")\n",
    "matplotlib.pyplot.show()"
   ]
  },
  {
   "cell_type": "markdown",
   "metadata": {},
   "source": [
    "There, that's much better!  There are still a few features that stick out on the far end of the spectrum for both salary and bonus.  While I assume they are probably real Enron employees and legitimate data points, it's best to make sure."
   ]
  },
  {
   "cell_type": "code",
   "execution_count": 10,
   "metadata": {
    "collapsed": false
   },
   "outputs": [
    {
     "name": "stdout",
     "output_type": "stream",
     "text": [
      "['LAY KENNETH L', 'SKILLING JEFFREY K']\n"
     ]
    }
   ],
   "source": [
    "# Print names of remaining outliers to check for legitimacy\n",
    "name_list = [name for name in enron_data.keys() if enron_data[name][\"salary\"] != 'NaN' and \n",
    "             enron_data[name][\"salary\"] >= 1000000 and enron_data[name][\"bonus\"] >= 5000000]\n",
    "print name_list"
   ]
  },
  {
   "cell_type": "markdown",
   "metadata": {},
   "source": [
    "As I suspected, they are indeed legitimate data points, but, looking at the other end of the spectrum, there seems to be some points that don't have any salary or bonus.  It's probably best to give those points a look as well."
   ]
  },
  {
   "cell_type": "code",
   "execution_count": 11,
   "metadata": {
    "collapsed": false
   },
   "outputs": [
    {
     "name": "stdout",
     "output_type": "stream",
     "text": [
      "['CORDES WILLIAM R', 'MEYER ROCKFORD G', 'HORTON STANLEY C', 'GIBBS DANA R', 'LOWRY CHARLES P', 'WALTERS GARETH W', 'CHAN RONNIE', 'BELFER ROBERT', 'WODRASKA JOHN', 'URQUHART JOHN A', 'WHALEY DAVID A', 'HAUG DAVID L', 'MENDELSOHN JOHN', 'CLINE KENNETH W', 'LEWIS RICHARD', 'HAYES ROBERT E', 'MCCARTY DANNY J', 'WAKEHAM JOHN', 'POWERS WILLIAM', 'DUNCAN JOHN H', 'LEMAISTRE CHARLES', 'PIRO JIM', 'WROBEL BRUCE', 'MEYER JEROME J', 'MCDONALD REBECCA', 'SCRIMSHAW MATTHEW', 'GATHMANN WILLIAM D', 'GILLIS JOHN', 'MORAN MICHAEL P', 'FOY JOE', 'LOCKHART EUGENE E', 'PEREIRA PAULO V. FERRAZ', 'BLAKE JR. NORMAN P', 'SHERRICK JEFFREY B', 'PRENTICE JAMES', 'THE TRAVEL AGENCY IN THE PARK', 'NOLES JAMES L', 'FOWLER PEGGY', 'CHRISTODOULOU DIOMEDES', 'JAEDICKE ROBERT', 'WINOKUR JR. HERBERT S', 'BROWN MICHAEL', 'BADUM JAMES P', 'HUGHES JAMES A', 'BHATNAGAR SANJAY', 'YEAP SOON', 'HIRKO JOSEPH', 'HAYSLETT RODERICK J', 'FUGH JOHN L', 'SAVAGE FRANK', 'GRAMM WENDY L']\n"
     ]
    }
   ],
   "source": [
    "name_list = [name for name in enron_data.keys() if enron_data[name][\"salary\"] == 'NaN' and \n",
    "             enron_data[name][\"bonus\"] == 'NaN']\n",
    "print name_list"
   ]
  },
  {
   "cell_type": "markdown",
   "metadata": {},
   "source": [
    "Well, that was more people than I expected, but while looking at the list I noticed a person named \"THE TRAVEL AGENCY IN THE PARK\".  This definately doesn't seem like an employee, so I did a quick Google search and found out that this was a [travel agency co-owned by Ken Lay's younger sister Sharon Lay](http://content.time.com/time/magazine/article/0,9171,198885,00.html) (it was renamed Alliance Worldwide in 2002).  According to Sharon Lay's [LinkedIn page](https://www.linkedin.com/in/sharon-lay-aa985b13/), she left the company in 2005.\n",
    "\n",
    "Because the travel agaency is not an Enron employee, I'll get rid of it."
   ]
  },
  {
   "cell_type": "code",
   "execution_count": 12,
   "metadata": {
    "collapsed": false
   },
   "outputs": [
    {
     "data": {
      "text/plain": [
       "{'bonus': 'NaN',\n",
       " 'deferral_payments': 'NaN',\n",
       " 'deferred_income': 'NaN',\n",
       " 'director_fees': 'NaN',\n",
       " 'email_address': 'NaN',\n",
       " 'exercised_stock_options': 'NaN',\n",
       " 'expenses': 'NaN',\n",
       " 'from_messages': 'NaN',\n",
       " 'from_poi_to_this_person': 'NaN',\n",
       " 'from_this_person_to_poi': 'NaN',\n",
       " 'loan_advances': 'NaN',\n",
       " 'long_term_incentive': 'NaN',\n",
       " 'other': 362096,\n",
       " 'poi': False,\n",
       " 'restricted_stock': 'NaN',\n",
       " 'restricted_stock_deferred': 'NaN',\n",
       " 'salary': 'NaN',\n",
       " 'shared_receipt_with_poi': 'NaN',\n",
       " 'to_messages': 'NaN',\n",
       " 'total_payments': 362096,\n",
       " 'total_stock_value': 'NaN'}"
      ]
     },
     "execution_count": 12,
     "metadata": {},
     "output_type": "execute_result"
    }
   ],
   "source": [
    "enron_data.pop(\"THE TRAVEL AGENCY IN THE PARK\")"
   ]
  },
  {
   "cell_type": "markdown",
   "metadata": {},
   "source": [
    "Seeing how this data point had a \"Nan\" value for almost all it's features, it made me wonder if there are any people on the list with \"Nan\" values for all features.  In order to do this, I will look at everyone in the data set who is not a POI and has a \"Nan\" value for \"total_payments\" and \"total_stock_value\" (I chose those two because they are totals for all other financial features)."
   ]
  },
  {
   "cell_type": "code",
   "execution_count": 13,
   "metadata": {
    "collapsed": false
   },
   "outputs": [
    {
     "name": "stdout",
     "output_type": "stream",
     "text": [
      "['CHAN RONNIE', 'POWERS WILLIAM', 'LOCKHART EUGENE E']\n"
     ]
    }
   ],
   "source": [
    "name_list = [name for name in enron_data.keys() if enron_data[name][\"poi\"] == False and \n",
    "             enron_data[name][\"total_payments\"] == 'NaN' and enron_data[name][\"total_stock_value\"] == 'NaN']\n",
    "print name_list"
   ]
  },
  {
   "cell_type": "code",
   "execution_count": 14,
   "metadata": {
    "collapsed": false
   },
   "outputs": [
    {
     "data": {
      "text/plain": [
       "[['CHAN RONNIE',\n",
       "  {'bonus': 'NaN',\n",
       "   'deferral_payments': 'NaN',\n",
       "   'deferred_income': -98784,\n",
       "   'director_fees': 98784,\n",
       "   'email_address': 'NaN',\n",
       "   'exercised_stock_options': 'NaN',\n",
       "   'expenses': 'NaN',\n",
       "   'from_messages': 'NaN',\n",
       "   'from_poi_to_this_person': 'NaN',\n",
       "   'from_this_person_to_poi': 'NaN',\n",
       "   'loan_advances': 'NaN',\n",
       "   'long_term_incentive': 'NaN',\n",
       "   'other': 'NaN',\n",
       "   'poi': False,\n",
       "   'restricted_stock': 32460,\n",
       "   'restricted_stock_deferred': -32460,\n",
       "   'salary': 'NaN',\n",
       "   'shared_receipt_with_poi': 'NaN',\n",
       "   'to_messages': 'NaN',\n",
       "   'total_payments': 'NaN',\n",
       "   'total_stock_value': 'NaN'}],\n",
       " ['POWERS WILLIAM',\n",
       "  {'bonus': 'NaN',\n",
       "   'deferral_payments': 'NaN',\n",
       "   'deferred_income': -17500,\n",
       "   'director_fees': 17500,\n",
       "   'email_address': 'ken.powers@enron.com',\n",
       "   'exercised_stock_options': 'NaN',\n",
       "   'expenses': 'NaN',\n",
       "   'from_messages': 26,\n",
       "   'from_poi_to_this_person': 0,\n",
       "   'from_this_person_to_poi': 0,\n",
       "   'loan_advances': 'NaN',\n",
       "   'long_term_incentive': 'NaN',\n",
       "   'other': 'NaN',\n",
       "   'poi': False,\n",
       "   'restricted_stock': 'NaN',\n",
       "   'restricted_stock_deferred': 'NaN',\n",
       "   'salary': 'NaN',\n",
       "   'shared_receipt_with_poi': 12,\n",
       "   'to_messages': 653,\n",
       "   'total_payments': 'NaN',\n",
       "   'total_stock_value': 'NaN'}],\n",
       " ['LOCKHART EUGENE E',\n",
       "  {'bonus': 'NaN',\n",
       "   'deferral_payments': 'NaN',\n",
       "   'deferred_income': 'NaN',\n",
       "   'director_fees': 'NaN',\n",
       "   'email_address': 'NaN',\n",
       "   'exercised_stock_options': 'NaN',\n",
       "   'expenses': 'NaN',\n",
       "   'from_messages': 'NaN',\n",
       "   'from_poi_to_this_person': 'NaN',\n",
       "   'from_this_person_to_poi': 'NaN',\n",
       "   'loan_advances': 'NaN',\n",
       "   'long_term_incentive': 'NaN',\n",
       "   'other': 'NaN',\n",
       "   'poi': False,\n",
       "   'restricted_stock': 'NaN',\n",
       "   'restricted_stock_deferred': 'NaN',\n",
       "   'salary': 'NaN',\n",
       "   'shared_receipt_with_poi': 'NaN',\n",
       "   'to_messages': 'NaN',\n",
       "   'total_payments': 'NaN',\n",
       "   'total_stock_value': 'NaN'}]]"
      ]
     },
     "execution_count": 14,
     "metadata": {},
     "output_type": "execute_result"
    }
   ],
   "source": [
    "[[name,enron_data[name]] for name in name_list]"
   ]
  },
  {
   "cell_type": "markdown",
   "metadata": {},
   "source": [
    "Even though William Powers and Ronnie Chan did not recieve payments of any kind, they did have some recorded email exchanges and William Powers even has 12 shared receipts with a POI.  As a result, I will keep them.  Eugene E Lockhart, however, has \"Nan\" values for all the features with the exeption of the \"poi\" feature, so I will remove him due to a lack of informational value."
   ]
  },
  {
   "cell_type": "code",
   "execution_count": 15,
   "metadata": {
    "collapsed": false
   },
   "outputs": [
    {
     "data": {
      "text/plain": [
       "{'bonus': 'NaN',\n",
       " 'deferral_payments': 'NaN',\n",
       " 'deferred_income': 'NaN',\n",
       " 'director_fees': 'NaN',\n",
       " 'email_address': 'NaN',\n",
       " 'exercised_stock_options': 'NaN',\n",
       " 'expenses': 'NaN',\n",
       " 'from_messages': 'NaN',\n",
       " 'from_poi_to_this_person': 'NaN',\n",
       " 'from_this_person_to_poi': 'NaN',\n",
       " 'loan_advances': 'NaN',\n",
       " 'long_term_incentive': 'NaN',\n",
       " 'other': 'NaN',\n",
       " 'poi': False,\n",
       " 'restricted_stock': 'NaN',\n",
       " 'restricted_stock_deferred': 'NaN',\n",
       " 'salary': 'NaN',\n",
       " 'shared_receipt_with_poi': 'NaN',\n",
       " 'to_messages': 'NaN',\n",
       " 'total_payments': 'NaN',\n",
       " 'total_stock_value': 'NaN'}"
      ]
     },
     "execution_count": 15,
     "metadata": {},
     "output_type": "execute_result"
    }
   ],
   "source": [
    "enron_data.pop('LOCKHART EUGENE E')"
   ]
  },
  {
   "cell_type": "markdown",
   "metadata": {},
   "source": [
    "So in summary, there were two definite outliers (\"Total\" and \"The Travel Agency at the Park\") and one judgment call outlier (\"Eugene E Lockhart\").  Everyone else on the list seems to be a real person with legitimate data points I will need for my model, so I will move on."
   ]
  },
  {
   "cell_type": "markdown",
   "metadata": {},
   "source": [
    "## Optimize Feature Selection/Engineering"
   ]
  },
  {
   "cell_type": "markdown",
   "metadata": {},
   "source": [
    "### Create New Features"
   ]
  },
  {
   "cell_type": "markdown",
   "metadata": {},
   "source": [
    "For making a new feature to test, I decided I wanted to see what percentage of someone's total emails were sent to POIs.  My reasoning is that if someone is a POI, they would likely have a higher percentage of their total emails going to other POIs than non POIs.  In order to do that, I wrote the function below to create three new variables.  Two of them (\"total_emails\" and \"total_poi_contact\") were necessary to make in order to create the \"perc_poi_contact\" variable that I ultimately wanted."
   ]
  },
  {
   "cell_type": "code",
   "execution_count": 16,
   "metadata": {
    "collapsed": false
   },
   "outputs": [
    {
     "data": {
      "image/png": "[encoded data removed]",
      "text/plain": [
       "<matplotlib.figure.Figure at 0x7fce05ff5690>"
      ]
     },
     "metadata": {},
     "output_type": "display_data"
    },
    {
     "name": "stdout",
     "output_type": "stream",
     "text": [
      "Number of Features in the Enron Dataset: 24\n",
      "Features in the Enron Dataset: ['to_messages', 'deferral_payments', 'expenses', 'poi', 'perc_poi_contact', 'deferred_income', 'email_address', 'long_term_incentive', 'restricted_stock_deferred', 'shared_receipt_with_poi', 'loan_advances', 'from_messages', 'other', 'director_fees', 'bonus', 'total_stock_value', 'from_poi_to_this_person', 'total_emails', 'from_this_person_to_poi', 'restricted_stock', 'salary', 'total_payments', 'exercised_stock_options', 'total_poi_contact']\n"
     ]
    }
   ],
   "source": [
    "#!/home/matthew/anaconda2/bin/python\n",
    "\n",
    "# Creating and plotting new features\n",
    "for name in enron_data.keys():\n",
    "    edn = enron_data[name]\n",
    "    edn[\"perc_poi_contact\"] = 0\n",
    "    edn[\"total_emails\"] = 0\n",
    "    edn[\"total_poi_contact\"] = 0\n",
    "    if (edn[\"from_this_person_to_poi\"] != \"NaN\" and edn[\"from_poi_to_this_person\"] != \"NaN\"\n",
    "        and edn[\"to_messages\"] != \"NaN\" and edn[\"from_messages\"] != \"NaN\"):\n",
    "        edn[\"total_poi_contact\"] = edn[\"from_this_person_to_poi\"] + edn[\"from_poi_to_this_person\"]\n",
    "        edn[\"total_emails\"] = edn[\"to_messages\"] + edn[\"from_messages\"]\n",
    "        edn[\"perc_poi_contact\"] = float(edn[\"total_poi_contact\"]) / edn[\"total_emails\"]\n",
    "        if edn[\"poi\"] == 1:\n",
    "            matplotlib.pyplot.scatter(edn[\"total_poi_contact\"], edn[\"perc_poi_contact\"], color = 'r')\n",
    "        else:\n",
    "            matplotlib.pyplot.scatter(edn[\"total_poi_contact\"], edn[\"perc_poi_contact\"], color = 'b')\n",
    "        \n",
    "matplotlib.pyplot.xlabel(\"total_poi_contact\")\n",
    "matplotlib.pyplot.ylabel(\"perc_poi_contact\")\n",
    "matplotlib.pyplot.show()\n",
    "\n",
    "print \"Number of Features in the Enron Dataset:\", len(enron_data.values()[0])\n",
    "\n",
    "print \"Features in the Enron Dataset:\", [value for value in enron_data.values()[0]]\n",
    "\n",
    "# for key, value in enron_data.iteritems():\n",
    "#     for k, v in value.iteritems():\n",
    "#         print k, v"
   ]
  },
  {
   "cell_type": "markdown",
   "metadata": {},
   "source": [
    "## Feature Selection and Testing and Picking an Algorithm"
   ]
  },
  {
   "cell_type": "markdown",
   "metadata": {},
   "source": [
    "### Test Full Feature List and Algorithms"
   ]
  },
  {
   "cell_type": "markdown",
   "metadata": {},
   "source": [
    "In the code below, I will perform what is called Validation.  Validation allows the data to be slit into different datasets that the algorithms can be trained on and then tested on.  This is important for machine learning because, according to the [Sklearn documentation](http://scikit-learn.org/stable/modules/cross_validation.html#cross-validation), \"Learning the parameters of a prediction function and testing it on the same data is a methodological mistake: a model that would just repeat the labels of the samples that it has just seen would have a perfect score but would fail to predict anything useful on yet-unseen data. This situation is called overfitting. To avoid it, it is common practice when performing a (supervised) machine learning experiment to hold out part of the available data as a test set.\"\n",
    "\n",
    "As can be seen below, I will use StratifiedShuffleSplit for validation and run over the output with a function to split the data into the training and testing data (this code is a modified version of the code in the tester.py code provided for this project).  I decided to use StratifiedShuffleSplit because it will help to ensure that I can retain a suitable proportion of POIs in both my training and testing sets due to the skewed proportions of POIs to non-POIs in the dataset.  After splitting the data, I will test the full set of features on untuned GaussianNB, DecisionTree, and AdaBoost Classifiers to get some base numbers to compare with after I conducted feature selection and tuning (I will not perform any feature scaling because none of the algorithms I will use require it).\n",
    "\n",
    "In order to evaluate the algorithms, I used Sklearn's \"[classification_report](http://scikit-learn.org/stable/modules/model_evaluation.html#classification-report)\" module, and it uses the [Precision](http://scikit-learn.org/stable/modules/generated/sklearn.metrics.precision_score.html#sklearn-metrics-precision-score), [Recall](http://scikit-learn.org/stable/modules/generated/sklearn.metrics.recall_score.html#sklearn-metrics-recall-score), and [F1](http://scikit-learn.org/stable/modules/generated/sklearn.metrics.f1_score.html#sklearn.metrics.f1_score) scores for evaluation.  According to Sklearn, \"The precision is the ratio `tp / (tp + fp)` where `tp` is the number of true positives and `fp` the number of false positives. The precision is intuitively the ability of the classifier not to label as positive a sample that is negative.\"  In addition, \"The recall is the ratio `tp / (tp + fn)` where `tp` is the number of true positives and `fn` the number of false negatives. The recall is intuitively the ability of the classifier to find all the positive samples.\"  For both Precision and Recall, the best value is 1 and the worst value is 0.  In summary of these two metrics, \"The F1 score can be interpreted as a weighted average of the precision and recall, where an F1 score reaches its best value at 1 and worst score at 0. The relative contribution of precision and recall to the F1 score are equal. The formula for the F1 score is:\n",
    "\n",
    "`F1 = 2 * (precision * recall) / (precision + recall)`.\n",
    "\n",
    "In addition to this, I will also test each classifier on the tester function provided in tester.py."
   ]
  },
  {
   "cell_type": "code",
   "execution_count": 2,
   "metadata": {
    "collapsed": false
   },
   "outputs": [],
   "source": [
    "from sklearn.naive_bayes import GaussianNB\n",
    "from sklearn.tree import DecisionTreeClassifier\n",
    "from sklearn.ensemble import AdaBoostClassifier\n",
    "from sklearn.neighbors import KNeighborsClassifier\n",
    "import numpy as np\n",
    "np.random.seed(42)\n",
    "from sklearn.model_selection import StratifiedShuffleSplit\n",
    "from sklearn.feature_selection import SelectKBest, f_classif\n",
    "from sklearn.pipeline import Pipeline\n",
    "from sklearn.feature_selection import RFECV\n",
    "from sklearn.model_selection import GridSearchCV\n",
    "from time import time\n",
    "from sklearn.metrics import accuracy_score\n",
    "from sklearn.metrics import confusion_matrix\n",
    "from sklearn.metrics import classification_report\n",
    "from tester import test_classifier, dump_classifier_and_data"
   ]
  },
  {
   "cell_type": "code",
   "execution_count": 16,
   "metadata": {
    "collapsed": false
   },
   "outputs": [
    {
     "name": "stdout",
     "output_type": "stream",
     "text": [
      "training time: 0.001 s\n",
      "predicting time: 0.001 s\n",
      "Accuracy: 0.6\n",
      " \n",
      "Grid Search Classification report:\n",
      "             precision    recall  f1-score   support\n",
      "\n",
      "        0.0       0.89      0.62      0.73        13\n",
      "        1.0       0.17      0.50      0.25         2\n",
      "\n",
      "avg / total       0.79      0.60      0.66        15\n",
      "\n",
      " \n",
      "tester.py Classification report:\n",
      "GaussianNB(priors=None)\n",
      "\tAccuracy: 0.73693\tPrecision: 0.22927\tRecall: 0.41200\tF1: 0.29460\tF2: 0.35536\n",
      "\tTotal predictions: 15000\tTrue positives:  824\tFalse positives: 2770\tFalse negatives: 1176\tTrue negatives: 10230\n",
      "\n",
      " \n"
     ]
    }
   ],
   "source": [
    "features_list = ['poi', 'to_messages', 'deferral_payments', 'expenses', 'perc_poi_contact', 'deferred_income', \n",
    "                 'long_term_incentive', 'restricted_stock_deferred', 'shared_receipt_with_poi', \n",
    "                 'loan_advances', 'from_messages', 'other', 'director_fees', 'bonus', 'total_stock_value', \n",
    "                 'from_poi_to_this_person', 'total_emails', 'from_this_person_to_poi', 'restricted_stock', \n",
    "                 'salary', 'total_payments', 'exercised_stock_options', 'total_poi_contact']\n",
    "\n",
    "data = featureFormat(enron_data, features_list)\n",
    "labels, features = targetFeatureSplit(data)\n",
    "\n",
    "sss = StratifiedShuffleSplit(n_splits = 1000, random_state = 42)\n",
    "for train_idx, test_idx in sss.split(features, labels): \n",
    "    features_train = []\n",
    "    features_test  = []\n",
    "    labels_train   = []\n",
    "    labels_test    = []\n",
    "    for ii in train_idx:\n",
    "        features_train.append( features[ii] )\n",
    "        labels_train.append( labels[ii] )\n",
    "    for jj in test_idx:\n",
    "        features_test.append( features[jj] )\n",
    "        labels_test.append( labels[jj] )\n",
    "\n",
    "clf = GaussianNB()\n",
    "\n",
    "t0 = time()\n",
    "clf.fit(features_train, labels_train)\n",
    "print \"training time:\", round(time()-t0, 3), \"s\"\n",
    "\n",
    "t1 = time()                            \n",
    "pred = clf.predict(features_test)\n",
    "print \"predicting time:\", round(time()-t1, 3), \"s\"\n",
    "\n",
    "accuracy = accuracy_score(pred, labels_test)\n",
    "print \"Accuracy:\", accuracy\n",
    "print \" \"\n",
    "\n",
    "# Print Results  (will print the Grid Search score)\n",
    "print \"Grid Search Classification report:\" \n",
    "print classification_report(labels_test, pred)\n",
    "print \" \"\n",
    "\n",
    "my_dataset = enron_data\n",
    "\n",
    "# Print Results  (will print the tester.py score)\n",
    "print \"tester.py Classification report:\" \n",
    "test_classifier(clf, my_dataset, features_list)\n",
    "print \" \""
   ]
  },
  {
   "cell_type": "code",
   "execution_count": 17,
   "metadata": {
    "collapsed": false,
    "scrolled": false
   },
   "outputs": [
    {
     "name": "stdout",
     "output_type": "stream",
     "text": [
      "training time: 0.001 s\n",
      "predicting time: 0.0 s\n",
      "Accuracy: 0.933333333333\n",
      " \n",
      "Grid Search Classification report:\n",
      "             precision    recall  f1-score   support\n",
      "\n",
      "        0.0       0.93      1.00      0.96        13\n",
      "        1.0       1.00      0.50      0.67         2\n",
      "\n",
      "avg / total       0.94      0.93      0.92        15\n",
      "\n",
      " \n",
      "Feature Ranking: \n",
      "1 feature to_messages (0.307688506982)\n",
      "2 feature deferral_payments (0.114304029304)\n",
      "3 feature expenses (0.106292517007)\n",
      "4 feature perc_poi_contact (0.104142857143)\n",
      "5 feature deferred_income (0.0761278195489)\n",
      "6 feature long_term_incentive (0.0659340659341)\n",
      "7 feature restricted_stock_deferred (0.0571428571429)\n",
      "8 feature shared_receipt_with_poi (0.0544217687075)\n",
      "9 feature loan_advances (0.047619047619)\n",
      "10 feature from_messages (0.047619047619)\n",
      "11 feature other (0.0187074829932)\n",
      "12 feature director_fees (0.0)\n",
      "13 feature bonus (0.0)\n",
      "14 feature total_stock_value (0.0)\n",
      "15 feature from_poi_to_this_person (0.0)\n",
      "16 feature total_emails (0.0)\n",
      "17 feature from_this_person_to_poi (0.0)\n",
      "18 feature restricted_stock (0.0)\n",
      "19 feature salary (0.0)\n",
      "20 feature total_payments (0.0)\n",
      "21 feature exercised_stock_options (0.0)\n",
      "22 feature total_poi_contact (0.0)\n",
      " \n",
      "tester.py Classification report:\n",
      "DecisionTreeClassifier(class_weight=None, criterion='gini', max_depth=None,\n",
      "            max_features=None, max_leaf_nodes=None,\n",
      "            min_impurity_split=1e-07, min_samples_leaf=1,\n",
      "            min_samples_split=2, min_weight_fraction_leaf=0.0,\n",
      "            presort=False, random_state=None, splitter='best')\n",
      "\tAccuracy: 0.79380\tPrecision: 0.22301\tRecall: 0.22000\tF1: 0.22150\tF2: 0.22060\n",
      "\tTotal predictions: 15000\tTrue positives:  440\tFalse positives: 1533\tFalse negatives: 1560\tTrue negatives: 11467\n",
      "\n",
      " \n"
     ]
    }
   ],
   "source": [
    "features_list = ['poi', 'to_messages', 'deferral_payments', 'expenses', 'perc_poi_contact', 'deferred_income', \n",
    "                 'long_term_incentive', 'restricted_stock_deferred', 'shared_receipt_with_poi', \n",
    "                 'loan_advances', 'from_messages', 'other', 'director_fees', 'bonus', 'total_stock_value', \n",
    "                 'from_poi_to_this_person', 'total_emails', 'from_this_person_to_poi', 'restricted_stock', \n",
    "                 'salary', 'total_payments', 'exercised_stock_options', 'total_poi_contact']\n",
    "\n",
    "data = featureFormat(enron_data, features_list)\n",
    "labels, features = targetFeatureSplit(data)\n",
    "\n",
    "sss = StratifiedShuffleSplit(n_splits = 1000, random_state = 42)\n",
    "for train_idx, test_idx in sss.split(features, labels): \n",
    "    features_train = []\n",
    "    features_test  = []\n",
    "    labels_train   = []\n",
    "    labels_test    = []\n",
    "    for ii in train_idx:\n",
    "        features_train.append( features[ii] )\n",
    "        labels_train.append( labels[ii] )\n",
    "    for jj in test_idx:\n",
    "        features_test.append( features[jj] )\n",
    "        labels_test.append( labels[jj] )\n",
    "\n",
    "clf = DecisionTreeClassifier()\n",
    "\n",
    "t0 = time()\n",
    "clf.fit(features_train, labels_train)\n",
    "print \"training time:\", round(time()-t0, 3), \"s\"\n",
    "\n",
    "t1 = time()                            \n",
    "pred = clf.predict(features_test)\n",
    "print \"predicting time:\", round(time()-t1, 3), \"s\"\n",
    "\n",
    "accuracy = accuracy_score(pred, labels_test)\n",
    "print \"Accuracy:\", accuracy\n",
    "print \" \"\n",
    "\n",
    "# Print Results  (will print the Grid Search score)\n",
    "print \"Grid Search Classification report:\" \n",
    "print classification_report(labels_test, pred)\n",
    "print \" \" \n",
    "\n",
    "# list of importance features\n",
    "importances = clf.feature_importances_\n",
    "indices = np.argsort(importances)[::-1]\n",
    "print 'Feature Ranking: '\n",
    "for i in range(len(importances)):\n",
    "    print \"{} feature {} ({})\".format(i+1,features_list[i+1],importances[indices[i]])\n",
    "print \" \"\n",
    "\n",
    "my_dataset = enron_data\n",
    "\n",
    "# Print Results  (will print the tester.py score)\n",
    "print \"tester.py Classification report:\" \n",
    "test_classifier(clf, my_dataset, features_list)\n",
    "print \" \""
   ]
  },
  {
   "cell_type": "code",
   "execution_count": 18,
   "metadata": {
    "collapsed": false,
    "scrolled": false
   },
   "outputs": [
    {
     "name": "stdout",
     "output_type": "stream",
     "text": [
      "training time: 0.116 s\n",
      "predicting time: 0.004 s\n",
      "Accuracy: 0.933333333333\n",
      " \n",
      "Grid Search Classification report:\n",
      "             precision    recall  f1-score   support\n",
      "\n",
      "        0.0       0.93      1.00      0.96        13\n",
      "        1.0       1.00      0.50      0.67         2\n",
      "\n",
      "avg / total       0.94      0.93      0.92        15\n",
      "\n",
      " \n",
      "Feature Ranking: \n",
      "1 feature to_messages (0.18)\n",
      "2 feature deferral_payments (0.14)\n",
      "3 feature expenses (0.1)\n",
      "4 feature perc_poi_contact (0.1)\n",
      "5 feature deferred_income (0.1)\n",
      "6 feature long_term_incentive (0.06)\n",
      "7 feature restricted_stock_deferred (0.06)\n",
      "8 feature shared_receipt_with_poi (0.04)\n",
      "9 feature loan_advances (0.04)\n",
      "10 feature from_messages (0.04)\n",
      "11 feature other (0.04)\n",
      "12 feature director_fees (0.02)\n",
      "13 feature bonus (0.02)\n",
      "14 feature total_stock_value (0.02)\n",
      "15 feature from_poi_to_this_person (0.02)\n",
      "16 feature total_emails (0.02)\n",
      "17 feature from_this_person_to_poi (0.0)\n",
      "18 feature restricted_stock (0.0)\n",
      "19 feature salary (0.0)\n",
      "20 feature total_payments (0.0)\n",
      "21 feature exercised_stock_options (0.0)\n",
      "22 feature total_poi_contact (0.0)\n",
      " \n",
      "tester.py Classification report:\n",
      "AdaBoostClassifier(algorithm='SAMME.R', base_estimator=None,\n",
      "          learning_rate=1.0, n_estimators=50, random_state=None)\n",
      "\tAccuracy: 0.83520\tPrecision: 0.34715\tRecall: 0.26800\tF1: 0.30248\tF2: 0.28080\n",
      "\tTotal predictions: 15000\tTrue positives:  536\tFalse positives: 1008\tFalse negatives: 1464\tTrue negatives: 11992\n",
      "\n",
      " \n"
     ]
    }
   ],
   "source": [
    "features_list = ['poi', 'to_messages', 'deferral_payments', 'expenses', 'perc_poi_contact', 'deferred_income', \n",
    "                 'long_term_incentive', 'restricted_stock_deferred', 'shared_receipt_with_poi', \n",
    "                 'loan_advances', 'from_messages', 'other', 'director_fees', 'bonus', 'total_stock_value', \n",
    "                 'from_poi_to_this_person', 'total_emails', 'from_this_person_to_poi', 'restricted_stock', \n",
    "                 'salary', 'total_payments', 'exercised_stock_options', 'total_poi_contact']\n",
    "\n",
    "data = featureFormat(enron_data, features_list)\n",
    "labels, features = targetFeatureSplit(data)\n",
    "\n",
    "sss = StratifiedShuffleSplit(n_splits = 1000, random_state = 42)\n",
    "for train_idx, test_idx in sss.split(features, labels): \n",
    "    features_train = []\n",
    "    features_test  = []\n",
    "    labels_train   = []\n",
    "    labels_test    = []\n",
    "    for ii in train_idx:\n",
    "        features_train.append( features[ii] )\n",
    "        labels_train.append( labels[ii] )\n",
    "    for jj in test_idx:\n",
    "        features_test.append( features[jj] )\n",
    "        labels_test.append( labels[jj] )\n",
    "\n",
    "clf = AdaBoostClassifier()\n",
    "\n",
    "t0 = time()\n",
    "clf.fit(features_train, labels_train)\n",
    "print \"training time:\", round(time()-t0, 3), \"s\"\n",
    "\n",
    "t1 = time()                            \n",
    "pred = clf.predict(features_test)\n",
    "print \"predicting time:\", round(time()-t1, 3), \"s\"\n",
    "\n",
    "accuracy = accuracy_score(pred, labels_test)\n",
    "print \"Accuracy:\", accuracy\n",
    "print \" \"\n",
    "\n",
    "# Print Results  (will print the Grid Search score)\n",
    "print \"Grid Search Classification report:\"\n",
    "print classification_report(labels_test, pred)\n",
    "print \" \" \n",
    "\n",
    "# list of importance features\n",
    "importances = clf.feature_importances_\n",
    "indices = np.argsort(importances)[::-1]\n",
    "print 'Feature Ranking: '\n",
    "for i in range(len(importances)):\n",
    "    print \"{} feature {} ({})\".format(i+1,features_list[i+1],importances[indices[i]])\n",
    "print \" \"\n",
    "\n",
    "my_dataset = enron_data\n",
    "\n",
    "# Print Results  (will print the tester.py score)\n",
    "print \"tester.py Classification report:\" \n",
    "test_classifier(clf, my_dataset, features_list)\n",
    "print \" \""
   ]
  },
  {
   "cell_type": "markdown",
   "metadata": {},
   "source": [
    "All but the DecisionTree seems to have performed fairly well out of the box.  The feature importances printed out for both the DecisionTreeClassifier and the AdaBoostClassifier seem to mirror each other pretty well, and my first reaction is to take the features with feature importances at 10% and above and use those as the best features to tune the algorithms on.  Just to be safe though, I think running some extra feature selection algorithms is a good idea."
   ]
  },
  {
   "cell_type": "markdown",
   "metadata": {},
   "source": [
    "## Intelligently Select Features and Tune the Algorithms"
   ]
  },
  {
   "cell_type": "markdown",
   "metadata": {},
   "source": [
    "As you will see below, I decided to use SelectKBest for feature selection on each algorithm.  According to the [Sklearn documentation](http://scikit-learn.org/stable/modules/feature_selection.html#univariate-feature-selection), \"Univariate feature selection works by selecting the best features based on univariate statistical tests. It can be seen as a preprocessing step to an estimator. Scikit-learn exposes feature selection routines as objects that implement the transform method.\"  SelectKBest will remove all but the specified \"k\" highest scoring features.\n",
    "\n",
    "I will then pass both SelectKBest and each algorithm into Pipline, which, according to the [Sklearn documentation](http://scikit-learn.org/stable/modules/pipeline.html#pipeline-chaining-estimators), \"can be used to chain multiple estimators into one. This is useful as there is often a fixed sequence of steps in processing the data, for example feature selection, normalization and classification.\" Pipeline ultimately serves two purposes.  It's convenient because you only have to call fit and predict once on your data to fit a whole sequence of estimators, and it allows for joint parameter selection, which means you can grid search over parameters of all estimators in the pipeline at once.\n",
    "\n",
    "Finally, I will pass Pipline into GridSearchCV for parameter tuning.  Parameter tuning is important because many algorithms have different parameters that can be changed.  Tweaking these parameters and trying different parameter combinations can change the performance of the algorithm (sometimes drastically so).  This can be done by hand, but luckily GridSearchCV does this automatically.  According to the [Sklearn documentation](http://scikit-learn.org/stable/modules/grid_search.html#exhaustive-grid-search), GridSearchCV \"exhaustively generates candidates from a grid of parameter values.\"  Put another way, as it fits a chosen classifier on the dataset \"all the possible combinations of parameter values are evaluated and the best combination is retained.\""
   ]
  },
  {
   "cell_type": "code",
   "execution_count": 17,
   "metadata": {
    "collapsed": false,
    "scrolled": false
   },
   "outputs": [
    {
     "name": "stderr",
     "output_type": "stream",
     "text": [
      "/home/matthew/anaconda2/lib/python2.7/site-packages/sklearn/metrics/classification.py:1113: UndefinedMetricWarning: F-score is ill-defined and being set to 0.0 due to no predicted samples.\n",
      "  'precision', 'predicted', average, warn_for)\n",
      "/home/matthew/anaconda2/lib/python2.7/site-packages/sklearn/feature_selection/univariate_selection.py:113: UserWarning: Features [8] are constant.\n",
      "  UserWarning)\n",
      "/home/matthew/anaconda2/lib/python2.7/site-packages/sklearn/feature_selection/univariate_selection.py:114: RuntimeWarning: invalid value encountered in divide\n",
      "  f = msb / msw\n"
     ]
    },
    {
     "name": "stdout",
     "output_type": "stream",
     "text": [
      "training time: 19.103 s\n",
      "predicting time: 0.001 s\n",
      "Accuracy: 0.874125874126\n",
      " \n",
      "Grid Search Classification report:\n",
      "             precision    recall  f1-score   support\n",
      "\n",
      "        0.0       0.91      0.94      0.93       125\n",
      "        1.0       0.50      0.39      0.44        18\n",
      "\n",
      "avg / total       0.86      0.87      0.87       143\n",
      "\n",
      " \n",
      "Optimal Model - by Grid Search\n",
      "Pipeline(steps=[('selector', SelectKBest(k=5, score_func=<function f_classif at 0x7fcde4319758>)), ('clf', GaussianNB(priors=None))])\n",
      " \n",
      "Best Parameters- by Grid Search\n",
      "{'selector__k': 5, 'selector__score_func': <function f_classif at 0x7fcde4319758>, 'clf': GaussianNB(priors=None), 'selector': SelectKBest(k=5, score_func=<function f_classif at 0x7fcde4319758>), 'clf__priors': None, 'steps': [('selector', SelectKBest(k=5, score_func=<function f_classif at 0x7fcde4319758>)), ('clf', GaussianNB(priors=None))]}\n",
      " \n",
      "Selected Features, Scores:\n",
      "[('total_payments', '24.82'), ('bonus', '24.18'), ('director_fees', '20.79'), ('restricted_stock', '18.29'), ('perc_poi_contact', '11.46')]\n",
      " \n",
      "tester.py Classification report:\n",
      "Pipeline(steps=[('selector', SelectKBest(k=5, score_func=<function f_classif at 0x7fcde4319758>)), ('clf', GaussianNB(priors=None))])\n",
      "\tAccuracy: 0.84887\tPrecision: 0.42161\tRecall: 0.35900\tF1: 0.38779\tF2: 0.36999\n",
      "\tTotal predictions: 15000\tTrue positives:  718\tFalse positives:  985\tFalse negatives: 1282\tTrue negatives: 12015\n",
      "\n",
      " \n"
     ]
    }
   ],
   "source": [
    "features_list = ['poi', 'to_messages', 'deferral_payments', 'expenses', 'perc_poi_contact', 'deferred_income', \n",
    "                 'long_term_incentive', 'restricted_stock_deferred', 'shared_receipt_with_poi', \n",
    "                 'loan_advances', 'from_messages', 'other', 'director_fees', 'bonus', 'total_stock_value', \n",
    "                 'from_poi_to_this_person', 'total_emails', 'from_this_person_to_poi', 'restricted_stock', \n",
    "                 'salary', 'total_payments', 'exercised_stock_options', 'total_poi_contact']\n",
    "\n",
    "data = featureFormat(enron_data, features_list)\n",
    "labels, features = targetFeatureSplit(data)\n",
    "\n",
    "clf = GaussianNB()\n",
    "\n",
    "selector = SelectKBest()\n",
    "\n",
    "pipe = Pipeline([('selector', selector), ('clf', clf)])\n",
    "\n",
    "parameters = {'selector__k':[3, 4, 5, 6]}\n",
    "\n",
    "sss = StratifiedShuffleSplit(n_splits = 1000, random_state = 42)\n",
    "\n",
    "gs = GridSearchCV(pipe, parameters, scoring = 'f1', cv = sss)\n",
    "\n",
    "t0 = time()\n",
    "gs.fit(features, labels)\n",
    "print \"training time:\", round(time()-t0, 3), \"s\"\n",
    "\n",
    "clf = gs.best_estimator_\n",
    "\n",
    "t1 = time()                            \n",
    "pred = clf.predict(features)\n",
    "print \"predicting time:\", round(time()-t1, 3), \"s\"\n",
    "\n",
    "accuracy = accuracy_score(pred, labels)\n",
    "print \"Accuracy:\", accuracy\n",
    "print \" \"\n",
    "\n",
    "# Print Results  (will print the Grid Search score)\n",
    "print \"Grid Search Classification report:\" \n",
    "print classification_report(labels, pred)\n",
    "print \" \"\n",
    "\n",
    "print \"Optimal Model - by Grid Search\"\n",
    "print clf\n",
    "print \" \"\n",
    "\n",
    "best_parameters = gs.best_estimator_.get_params()\n",
    "print \"Best Parameters- by Grid Search\"\n",
    "print best_parameters\n",
    "print \" \"\n",
    "\n",
    "X_new = gs.best_estimator_.named_steps['selector']\n",
    "feature_scores = ['%.2f' % elem for elem in X_new.scores_ ]\n",
    "features_selected = [(features_list[i], feature_scores[i]) for i in X_new.get_support(indices=True)]\n",
    "# Sort the features by score, in reverse order\n",
    "features_selected = sorted(features_selected, key=lambda feature: float(feature[1]) , reverse=True)\n",
    "print \"Selected Features, Scores:\"\n",
    "print features_selected\n",
    "print \" \"\n",
    "\n",
    "my_dataset = enron_data\n",
    "\n",
    "# Print Results  (will print the tester.py score)\n",
    "print \"tester.py Classification report:\" \n",
    "test_classifier(clf, my_dataset, features_list)\n",
    "print \" \""
   ]
  },
  {
   "cell_type": "markdown",
   "metadata": {},
   "source": [
    "Hmm, that's interesting, the selected best features are not what I was expecting.  Only 'perc_poi_contact' (which was one of the features I created) was one of my possible choices for a best feature on the first run-through, and all the others had very low feature importances.  However, the Precision, Recall, and F1 scores all jumped up nicely from their base scores, with all of them beating the 0.3 minimum score for the project.  I still need to check DecisionTree and AdaBoost though."
   ]
  },
  {
   "cell_type": "code",
   "execution_count": 20,
   "metadata": {
    "collapsed": false
   },
   "outputs": [
    {
     "name": "stdout",
     "output_type": "stream",
     "text": [
      "training time: 521.045 s\n",
      "predicting time: 0.001 s\n",
      "Accuracy: 0.814285714286\n",
      " \n",
      "Grid Search Classification report:\n",
      "             precision    recall  f1-score   support\n",
      "\n",
      "        0.0       0.94      0.84      0.89       122\n",
      "        1.0       0.37      0.61      0.46        18\n",
      "\n",
      "avg / total       0.86      0.81      0.83       140\n",
      "\n",
      " \n",
      "Optimal Model - by Grid Search\n",
      "DecisionTreeClassifier(class_weight='balanced', criterion='gini', max_depth=3,\n",
      "            max_features=None, max_leaf_nodes=None,\n",
      "            min_impurity_split=1e-07, min_samples_leaf=1,\n",
      "            min_samples_split=6, min_weight_fraction_leaf=0.0,\n",
      "            presort=False, random_state=None, splitter='random')\n",
      " \n",
      "Best Parameters- by Grid Search\n",
      "{'presort': False, 'splitter': 'random', 'max_leaf_nodes': None, 'min_samples_leaf': 1, 'min_samples_split': 6, 'min_weight_fraction_leaf': 0.0, 'criterion': 'gini', 'random_state': None, 'min_impurity_split': 1e-07, 'max_features': None, 'max_depth': 3, 'class_weight': 'balanced'}\n",
      " \n",
      "Feature Ranking: \n",
      "1 feature total_payments (0.453694292449)\n",
      "2 feature bonus (0.280878616273)\n",
      "3 feature deferred_income (0.238405364686)\n",
      "4 feature restricted_stock (0.0270217265921)\n",
      "5 feature perc_poi_contact (0.0)\n",
      " \n",
      "tester.py Classification report:\n",
      "DecisionTreeClassifier(class_weight='balanced', criterion='gini', max_depth=3,\n",
      "            max_features=None, max_leaf_nodes=None,\n",
      "            min_impurity_split=1e-07, min_samples_leaf=1,\n",
      "            min_samples_split=6, min_weight_fraction_leaf=0.0,\n",
      "            presort=False, random_state=None, splitter='random')\n",
      "\tAccuracy: 0.69564\tPrecision: 0.25028\tRecall: 0.56650\tF1: 0.34717\tF2: 0.45222\n",
      "\tTotal predictions: 14000\tTrue positives: 1133\tFalse positives: 3394\tFalse negatives:  867\tTrue negatives: 8606\n",
      "\n",
      " \n"
     ]
    }
   ],
   "source": [
    "features_list = ['poi', 'total_payments', 'bonus', 'deferred_income', 'restricted_stock', 'perc_poi_contact']\n",
    "\n",
    "data = featureFormat(enron_data, features_list)\n",
    "labels, features = targetFeatureSplit(data)\n",
    "\n",
    "clf = DecisionTreeClassifier()\n",
    "\n",
    "parameters = {'criterion':['gini', 'entropy'], 'splitter':['best', 'random'], 'max_depth':[None, 1, 2, 3, 4], \n",
    "              'min_samples_split':[6, 7, 8, 9], 'class_weight': [None, 'balanced']}\n",
    "\n",
    "sss = StratifiedShuffleSplit(n_splits = 1000, random_state = 42)\n",
    "\n",
    "gs = GridSearchCV(clf, parameters, scoring = 'f1', cv = sss)\n",
    "\n",
    "t0 = time()\n",
    "gs.fit(features, labels)\n",
    "print \"training time:\", round(time()-t0, 3), \"s\"\n",
    "\n",
    "clf = gs.best_estimator_\n",
    "\n",
    "t1 = time()                            \n",
    "pred = clf.predict(features)\n",
    "print \"predicting time:\", round(time()-t1, 3), \"s\"\n",
    "\n",
    "accuracy = accuracy_score(pred, labels)\n",
    "print \"Accuracy:\", accuracy\n",
    "print \" \"\n",
    "\n",
    "# Print Results  (will print the Grid Search score)\n",
    "print \"Grid Search Classification report:\" \n",
    "print classification_report(labels, pred)\n",
    "print \" \"\n",
    "\n",
    "print \"Optimal Model - by Grid Search\"\n",
    "print clf\n",
    "print \" \"\n",
    "\n",
    "best_parameters = gs.best_estimator_.get_params()\n",
    "print \"Best Parameters- by Grid Search\"\n",
    "print best_parameters\n",
    "print \" \"\n",
    "\n",
    "# list of importance features\n",
    "importances = clf.feature_importances_\n",
    "indices = np.argsort(importances)[::-1]\n",
    "print 'Feature Ranking: '\n",
    "for i in range(len(importances)):\n",
    "    print \"{} feature {} ({})\".format(i+1,features_list[i+1],importances[indices[i]])\n",
    "print \" \"\n",
    "\n",
    "my_dataset = enron_data\n",
    "\n",
    "# Print Results  (will print the tester.py score)\n",
    "print \"tester.py Classification report:\" \n",
    "test_classifier(clf, my_dataset, features_list)\n",
    "print \" \""
   ]
  },
  {
   "cell_type": "markdown",
   "metadata": {},
   "source": [
    "Well, that's not what I was expecting.  GaussianNB performed better than DecisionTree (even after some tweaking of the perameters).  Let's move on to see what AdaBoost will do."
   ]
  },
  {
   "cell_type": "code",
   "execution_count": 21,
   "metadata": {
    "collapsed": false,
    "scrolled": false
   },
   "outputs": [
    {
     "name": "stdout",
     "output_type": "stream",
     "text": [
      "training time: 3172.233 s\n",
      "predicting time: 0.002 s\n",
      "Accuracy: 0.357142857143\n",
      " \n",
      "Grid Search Classification report:\n",
      "             precision    recall  f1-score   support\n",
      "\n",
      "        0.0       1.00      0.26      0.42       122\n",
      "        1.0       0.17      1.00      0.29        18\n",
      "\n",
      "avg / total       0.89      0.36      0.40       140\n",
      "\n",
      " \n",
      "Optimal Model - by Grid Search\n",
      "AdaBoostClassifier(algorithm='SAMME', base_estimator=None, learning_rate=2.0,\n",
      "          n_estimators=42, random_state=None)\n",
      " \n",
      "Best Parameters- by Grid Search\n",
      "{'n_estimators': 42, 'base_estimator': None, 'random_state': None, 'learning_rate': 2.0, 'algorithm': 'SAMME'}\n",
      " \n",
      "Feature Ranking: \n",
      "1 feature total_payments (0.976520678498)\n",
      "2 feature bonus (0.0234793215017)\n",
      "3 feature deferred_income (0.0)\n",
      "4 feature restricted_stock (0.0)\n",
      "5 feature perc_poi_contact (0.0)\n",
      " \n",
      "tester.py Classification report:\n",
      "AdaBoostClassifier(algorithm='SAMME', base_estimator=None, learning_rate=2.0,\n",
      "          n_estimators=42, random_state=None)\n",
      "\tAccuracy: 0.45900\tPrecision: 0.17304\tRecall: 0.73750\tF1: 0.28031\tF2: 0.44632\n",
      "\tTotal predictions: 14000\tTrue positives: 1475\tFalse positives: 7049\tFalse negatives:  525\tTrue negatives: 4951\n",
      "\n",
      " \n"
     ]
    }
   ],
   "source": [
    "features_list = ['poi', 'total_payments', 'bonus', 'deferred_income', 'restricted_stock', 'perc_poi_contact']\n",
    "data = featureFormat(enron_data, features_list)\n",
    "labels, features = targetFeatureSplit(data)\n",
    "\n",
    "clf = AdaBoostClassifier()\n",
    "\n",
    "parameters = {'base_estimator':[None, DecisionTreeClassifier()], 'n_estimators':[38, 39, 40, 41, 42], \n",
    "              'learning_rate':[1.0, 1.5, 1.75, 2.0], 'algorithm':['SAMME', 'SAMME.R']}\n",
    "\n",
    "sss = StratifiedShuffleSplit(n_splits = 1000, random_state = 42)\n",
    "\n",
    "gs = GridSearchCV(clf, parameters, scoring = 'f1', cv = sss)\n",
    "\n",
    "t0 = time()\n",
    "gs.fit(features, labels)\n",
    "print \"training time:\", round(time()-t0, 3), \"s\"\n",
    "\n",
    "clf = gs.best_estimator_\n",
    "\n",
    "t1 = time()                            \n",
    "pred = clf.predict(features)\n",
    "print \"predicting time:\", round(time()-t1, 3), \"s\"\n",
    "\n",
    "accuracy = accuracy_score(pred, labels)\n",
    "print \"Accuracy:\", accuracy\n",
    "print \" \"\n",
    "\n",
    "# Print Results  (will print the Grid Search score)\n",
    "print \"Grid Search Classification report:\" \n",
    "print classification_report(labels, pred)\n",
    "print \" \"\n",
    "\n",
    "print \"Optimal Model - by Grid Search\"\n",
    "print clf\n",
    "print \" \"\n",
    "\n",
    "best_parameters = gs.best_estimator_.get_params()\n",
    "print \"Best Parameters- by Grid Search\"\n",
    "print best_parameters\n",
    "print \" \"\n",
    "\n",
    "# list of importance features\n",
    "importances = clf.feature_importances_\n",
    "indices = np.argsort(importances)[::-1]\n",
    "print 'Feature Ranking: '\n",
    "for i in range(len(importances)):\n",
    "    print \"{} feature {} ({})\".format(i+1,features_list[i+1],importances[indices[i]])\n",
    "print \" \"\n",
    "\n",
    "my_dataset = enron_data\n",
    "\n",
    "# Print Results  (will print the tester.py score)\n",
    "print \"tester.py Classification report:\" \n",
    "test_classifier(clf, my_dataset, features_list)\n",
    "print \" \""
   ]
  },
  {
   "cell_type": "markdown",
   "metadata": {},
   "source": [
    "Hmm, besides GaussianNB, none of the results are super promising.  I couldn't get Precision, Recall, and F1 scores for DecisionTree and AdaBoost all above 0.3.  I'm going to go ahead and switch gears for DecisionTree and AdaBoost.  Instead of running univariate feature selection like I did above, I will try recursive feature selection with RFECV.  According to the [Sklearn documentation](http://scikit-learn.org/stable/modules/feature_selection.html#recursive-feature-elimination), \"Given an external estimator that assigns weights to features (e.g., the coefficients of a linear model), recursive feature elimination (RFE) is to select features by recursively considering smaller and smaller sets of features. First, the estimator is trained on the initial set of features and weights are assigned to each one of them. Then, features whose absolute weights are the smallest are pruned from the current set features. That procedure is recursively repeated on the pruned set until the desired number of features to select is eventually reached.\n",
    "RFECV performs RFE in a cross-validation loop to find the optimal number of features.\"  While RFECV will take longer because of the cross-validation loop it will run, I assume the results should be more trustworthy because of it."
   ]
  },
  {
   "cell_type": "markdown",
   "metadata": {},
   "source": [
    "### Tune and Retest the Algorithms"
   ]
  },
  {
   "cell_type": "code",
   "execution_count": 22,
   "metadata": {
    "collapsed": false
   },
   "outputs": [
    {
     "name": "stdout",
     "output_type": "stream",
     "text": [
      "training time: 36.41 s\n",
      " \n",
      "Selected Features:\n",
      "['from_this_person_to_poi', 'salary', 'total_payments']\n"
     ]
    }
   ],
   "source": [
    "features_list = ['poi', 'to_messages', 'deferral_payments', 'expenses', 'perc_poi_contact', 'deferred_income', \n",
    "                 'long_term_incentive', 'restricted_stock_deferred', 'shared_receipt_with_poi', \n",
    "                 'loan_advances', 'from_messages', 'other', 'director_fees', 'bonus', 'total_stock_value', \n",
    "                 'from_poi_to_this_person', 'total_emails', 'from_this_person_to_poi', 'restricted_stock', \n",
    "                 'salary', 'total_payments', 'exercised_stock_options', 'total_poi_contact']\n",
    "\n",
    "data = featureFormat(enron_data, features_list)\n",
    "labels, features = targetFeatureSplit(data)\n",
    "\n",
    "sss = StratifiedShuffleSplit(n_splits = 1000, random_state = 42)\n",
    "\n",
    "clf = DecisionTreeClassifier()\n",
    "selector = RFECV(clf, cv = sss, scoring = 'f1')\n",
    "\n",
    "t0 = time()\n",
    "selector.fit(features, labels)\n",
    "print \"training time:\", round(time()-t0, 3), \"s\"\n",
    "print \" \"\n",
    "\n",
    "features_selected = [features_list[i] for i in selector.get_support(indices=True)]\n",
    "print \"Selected Features:\"\n",
    "print features_selected"
   ]
  },
  {
   "cell_type": "code",
   "execution_count": 26,
   "metadata": {
    "collapsed": false
   },
   "outputs": [
    {
     "name": "stdout",
     "output_type": "stream",
     "text": [
      "training time: 13208.391 s\n",
      "predicting time: 0.002 s\n",
      "Accuracy: 0.744186046512\n",
      " \n",
      "Grid Search Classification report:\n",
      "             precision    recall  f1-score   support\n",
      "\n",
      "        0.0       0.95      0.74      0.83       111\n",
      "        1.0       0.33      0.78      0.46        18\n",
      "\n",
      "avg / total       0.87      0.74      0.78       129\n",
      "\n",
      " \n",
      "Optimal Model - by Grid Search\n",
      "DecisionTreeClassifier(class_weight='balanced', criterion='gini', max_depth=2,\n",
      "            max_features=None, max_leaf_nodes=None,\n",
      "            min_impurity_split=1e-07, min_samples_leaf=1,\n",
      "            min_samples_split=8, min_weight_fraction_leaf=0.0,\n",
      "            presort=False, random_state=None, splitter='best')\n",
      " \n",
      "Best Parameters- by Grid Search\n",
      "{'presort': False, 'splitter': 'best', 'max_leaf_nodes': None, 'min_samples_leaf': 1, 'min_samples_split': 8, 'min_weight_fraction_leaf': 0.0, 'criterion': 'gini', 'random_state': None, 'min_impurity_split': 1e-07, 'max_features': None, 'max_depth': 2, 'class_weight': 'balanced'}\n",
      " \n",
      "Feature Ranking: \n",
      "1 feature from_this_person_to_poi (0.626036800923)\n",
      "2 feature salary (0.295186785411)\n",
      "3 feature total_payments (0.0787764136663)\n",
      " \n",
      "tester.py Classification report:\n",
      "DecisionTreeClassifier(class_weight='balanced', criterion='gini', max_depth=2,\n",
      "            max_features=None, max_leaf_nodes=None,\n",
      "            min_impurity_split=1e-07, min_samples_leaf=1,\n",
      "            min_samples_split=8, min_weight_fraction_leaf=0.0,\n",
      "            presort=False, random_state=None, splitter='best')\n",
      "\tAccuracy: 0.69454\tPrecision: 0.26839\tRecall: 0.57100\tF1: 0.36515\tF2: 0.46593\n",
      "\tTotal predictions: 13000\tTrue positives: 1142\tFalse positives: 3113\tFalse negatives:  858\tTrue negatives: 7887\n",
      "\n",
      " \n"
     ]
    }
   ],
   "source": [
    "features_list = ['poi', 'from_this_person_to_poi', 'salary', 'total_payments']\n",
    "\n",
    "data = featureFormat(enron_data, features_list)\n",
    "labels, features = targetFeatureSplit(data)\n",
    "\n",
    "clf = DecisionTreeClassifier()\n",
    "\n",
    "sss = StratifiedShuffleSplit(n_splits = 1000, random_state = 42)\n",
    "\n",
    "parameters = {'criterion':['gini', 'entropy'], 'splitter':['best', 'random'], 'max_features':[None, 'auto', 'log2'], \n",
    "              'max_depth':[None, 2, 4, 6, 8], 'min_samples_split':[2, 4, 6, 8], 'max_leaf_nodes':[None, 2, 4, 6, 8], \n",
    "              'class_weight': [None, 'balanced']}\n",
    "\n",
    "gs = GridSearchCV(clf, parameters, scoring = 'f1', cv = sss)\n",
    "\n",
    "t0 = time()\n",
    "gs.fit(features, labels)\n",
    "print \"training time:\", round(time()-t0, 3), \"s\"\n",
    "\n",
    "clf = gs.best_estimator_\n",
    "\n",
    "t1 = time()                            \n",
    "pred = clf.predict(features)\n",
    "print \"predicting time:\", round(time()-t1, 3), \"s\"\n",
    "\n",
    "accuracy = accuracy_score(pred, labels)\n",
    "print \"Accuracy:\", accuracy\n",
    "print \" \"\n",
    "\n",
    "# Print Results  (will print the Grid Search score)\n",
    "print \"Grid Search Classification report:\" \n",
    "print classification_report(labels, pred)\n",
    "print \" \"\n",
    "\n",
    "print \"Optimal Model - by Grid Search\"\n",
    "print clf\n",
    "print \" \"\n",
    "\n",
    "best_parameters = gs.best_estimator_.get_params()\n",
    "print \"Best Parameters- by Grid Search\"\n",
    "print best_parameters\n",
    "print \" \"\n",
    "\n",
    "# list of importance features\n",
    "importances = clf.feature_importances_\n",
    "indices = np.argsort(importances)[::-1]\n",
    "print 'Feature Ranking: '\n",
    "for i in range(len(importances)):\n",
    "    print \"{} feature {} ({})\".format(i+1,features_list[i+1],importances[indices[i]])\n",
    "print \" \"\n",
    "\n",
    "my_dataset = enron_data\n",
    "\n",
    "# Print Results  (will print the tester.py score)\n",
    "print \"tester.py Classification report:\" \n",
    "test_classifier(clf, my_dataset, features_list)\n",
    "print \" \""
   ]
  },
  {
   "cell_type": "code",
   "execution_count": 24,
   "metadata": {
    "collapsed": false
   },
   "outputs": [
    {
     "name": "stdout",
     "output_type": "stream",
     "text": [
      "training time: 2020.1 s\n",
      " \n",
      "Selected Features:\n",
      "['deferral_payments', 'expenses', 'from_messages', 'bonus', 'total_emails', 'from_this_person_to_poi', 'restricted_stock', 'salary', 'total_payments']\n"
     ]
    }
   ],
   "source": [
    "features_list = ['poi', 'to_messages', 'deferral_payments', 'expenses', 'perc_poi_contact', 'deferred_income', \n",
    "                 'long_term_incentive', 'restricted_stock_deferred', 'shared_receipt_with_poi', \n",
    "                 'loan_advances', 'from_messages', 'other', 'director_fees', 'bonus', 'total_stock_value', \n",
    "                 'from_poi_to_this_person', 'total_emails', 'from_this_person_to_poi', 'restricted_stock', \n",
    "                 'salary', 'total_payments', 'exercised_stock_options', 'total_poi_contact']\n",
    "\n",
    "data = featureFormat(enron_data, features_list)\n",
    "labels, features = targetFeatureSplit(data)\n",
    "\n",
    "sss = StratifiedShuffleSplit(n_splits = 1000, random_state = 42)\n",
    "\n",
    "clf = AdaBoostClassifier()\n",
    "selector = RFECV(clf, cv = sss, scoring = 'f1')\n",
    "\n",
    "t0 = time()\n",
    "selector.fit(features, labels)\n",
    "print \"training time:\", round(time()-t0, 3), \"s\"\n",
    "print \" \"\n",
    "\n",
    "features_selected = [features_list[i] for i in selector.get_support(indices=True)]\n",
    "print \"Selected Features:\"\n",
    "print features_selected       "
   ]
  },
  {
   "cell_type": "code",
   "execution_count": 25,
   "metadata": {
    "collapsed": false
   },
   "outputs": [
    {
     "name": "stdout",
     "output_type": "stream",
     "text": [
      "training time: 609.968 s\n",
      "predicting time: 0.001 s\n",
      "Accuracy: 0.892857142857\n",
      " \n",
      "Grid Search Classification report:\n",
      "             precision    recall  f1-score   support\n",
      "\n",
      "        0.0       0.93      0.94      0.94       122\n",
      "        1.0       0.59      0.56      0.57        18\n",
      "\n",
      "avg / total       0.89      0.89      0.89       140\n",
      "\n",
      " \n",
      "Optimal Model - by Grid Search\n",
      "AdaBoostClassifier(algorithm='SAMME.R', base_estimator=None,\n",
      "          learning_rate=1.875, n_estimators=2, random_state=None)\n",
      " \n",
      "Best Parameters- by Grid Search\n",
      "{'n_estimators': 2, 'base_estimator': None, 'random_state': None, 'learning_rate': 1.875, 'algorithm': 'SAMME.R'}\n",
      " \n",
      "Feature Ranking: \n",
      "1 feature deferral_payments (0.5)\n",
      "2 feature expenses (0.5)\n",
      "3 feature from_messages (0.0)\n",
      "4 feature bonus (0.0)\n",
      "5 feature total_emails (0.0)\n",
      "6 feature from_this_person_to_poi (0.0)\n",
      "7 feature restricted_stock (0.0)\n",
      "8 feature salary (0.0)\n",
      "9 feature total_payments (0.0)\n",
      " \n",
      "tester.py Classification report:\n",
      "AdaBoostClassifier(algorithm='SAMME.R', base_estimator=None,\n",
      "          learning_rate=1.875, n_estimators=2, random_state=None)\n",
      "\tAccuracy: 0.87343\tPrecision: 0.56722\tRecall: 0.48100\tF1: 0.52056\tF2: 0.49608\n",
      "\tTotal predictions: 14000\tTrue positives:  962\tFalse positives:  734\tFalse negatives: 1038\tTrue negatives: 11266\n",
      "\n",
      " \n"
     ]
    }
   ],
   "source": [
    "features_list = ['poi', 'deferral_payments', 'expenses', 'from_messages', 'bonus', 'total_emails', \n",
    "                 'from_this_person_to_poi', 'restricted_stock', 'salary', 'total_payments']\n",
    "\n",
    "data = featureFormat(enron_data, features_list)\n",
    "labels, features = targetFeatureSplit(data)\n",
    "\n",
    "sss = StratifiedShuffleSplit(n_splits = 1000, random_state = 42)\n",
    "\n",
    "clf = AdaBoostClassifier()\n",
    "\n",
    "parameters = {'base_estimator':[None, DecisionTreeClassifier()], 'n_estimators':[1, 2, 3, 4, 5], \n",
    "              'learning_rate':[1.75, 1.8125, 1.875, 1.9375, 2.0], 'algorithm':['SAMME', 'SAMME.R']}\n",
    "\n",
    "gs = GridSearchCV(clf, parameters, scoring = 'f1', cv = sss)\n",
    "\n",
    "t0 = time()\n",
    "gs.fit(features, labels)\n",
    "print \"training time:\", round(time()-t0, 3), \"s\"\n",
    "\n",
    "clf = gs.best_estimator_\n",
    "\n",
    "t1 = time()                            \n",
    "pred = clf.predict(features)\n",
    "print \"predicting time:\", round(time()-t1, 3), \"s\"\n",
    "\n",
    "accuracy = accuracy_score(pred, labels)\n",
    "print \"Accuracy:\", accuracy\n",
    "print \" \"\n",
    "\n",
    "# Print Results  (will print the Grid Search score)\n",
    "print \"Grid Search Classification report:\" \n",
    "print classification_report(labels, pred)\n",
    "print \" \"\n",
    "\n",
    "print \"Optimal Model - by Grid Search\"\n",
    "print clf\n",
    "print \" \"\n",
    "\n",
    "best_parameters = gs.best_estimator_.get_params()\n",
    "print \"Best Parameters- by Grid Search\"\n",
    "print best_parameters\n",
    "print \" \"\n",
    "\n",
    "# list of importance features\n",
    "importances = clf.feature_importances_\n",
    "indices = np.argsort(importances)[::-1]\n",
    "print 'Feature Ranking: '\n",
    "for i in range(len(importances)):\n",
    "    print \"{} feature {} ({})\".format(i+1,features_list[i+1],importances[indices[i]])\n",
    "print \" \"\n",
    "\n",
    "my_dataset = enron_data\n",
    "\n",
    "# Print Results  (will print the tester.py score)\n",
    "print \"tester.py Classification report:\" \n",
    "test_classifier(clf, my_dataset, features_list)\n",
    "print \" \""
   ]
  },
  {
   "cell_type": "markdown",
   "metadata": {},
   "source": [
    "After all of the various tests, using RFECV with both AdaBoost was the clear winner.  Not only could I get both Precision and Recall above the minimum threashold of 0.3, but I almost got both of them at 0.5 or above (with the F1 score at 0.52).  As a result, this is the algorithm I will use in my poi.py file for the project submission."
   ]
  },
  {
   "cell_type": "markdown",
   "metadata": {},
   "source": [
    "# Summary\n",
    "\n",
    "In summary, the point of this project was to use machine learning to build a person of interest identifier based on financial and email data made public as a result of the Enron scandal.  During the intitial exploation of the data, I found that there were a total of 146 people in the dataset (18 of which, or ~12%, are POIs) and 21 features.  Ai also discovered two definite outliers (\"Total\" and \"The Travel Agency at the Park\"), and I also discovered one judgment call outlier (\"Eugene E Lockhart\") who had \"Nan\" values for all his features.\n",
    "\n",
    "Next, I moved on to selecting features and building classifiers.  First, I ran some baseline tests on my three chosen algorithms (GaussianNB, DecisionTreeClassifier, and AdaBoostClassifier) so that I could have some numbers to compare with after feature selection and tuning.  I did both univatriate and recursive feature selection using SelectKBest and RFECV, and tuned and validated my algorithms using GridSearch and StratifiedShuffleSplit.  After all was said and done, I ended up choosing an AdaBoostClassifier that was tuned to work best with the best features selected by RFECV.\n",
    "\n",
    "My chosen features:\n",
    "\n",
    "- features_list = ['poi', 'deferral_payments', 'expenses', 'from_messages', 'bonus', 'total_emails', 'from_this_person_to_poi', 'restricted_stock', 'salary', 'total_payments']\n",
    "\n",
    "My final tuned classifier:\n",
    "\n",
    "- AdaBoostClassifier(algorithm='SAMME.R', base_estimator=None, learning_rate=1.875, n_estimators=2,                                      random_state=None)"
   ]
  },
  {
   "cell_type": "markdown",
   "metadata": {},
   "source": [
    "# Citations\n",
    "\n",
    "- http://scikit-learn.org/stable/modules/generated/sklearn.naive_bayes.GaussianNB.html#sklearn.naive_bayes.GaussianNB\n",
    "- http://scikit-learn.org/stable/modules/generated/sklearn.tree.DecisionTreeClassifier.html#sklearn.tree.DecisionTreeClassifier\n",
    "- https://discussions.udacity.com/t/feature-importances-/173319\n",
    "- http://scikit-learn.org/stable/modules/generated/sklearn.ensemble.AdaBoostClassifier.html#sklearn.ensemble.AdaBoostClassifier\n",
    "- http://scikit-learn.org/0.17/modules/generated/sklearn.cross_validation.StratifiedShuffleSplit.html#sklearn.cross_validation.StratifiedShuffleSplit\n",
    "- https://discussions.udacity.com/t/sklearn-feature-selection-stratifiedshufflesplit/199989\n",
    "- https://discussions.udacity.com/t/gridsearchcv-and-stratifiedshufflesplit-giving-indexerror-list-index-out-of-range/39018\n",
    "- https://discussions.udacity.com/t/validate-tester-py-function-never-completing-calculation/204371\n",
    "- http://scikit-learn.org/stable/modules/feature_selection.html#univariate-feature-selection\n",
    "- http://scikit-learn.org/stable/modules/pipeline.html#pipeline-chaining-estimators\n",
    "- http://scikit-learn.org/stable/modules/generated/sklearn.model_selection.GridSearchCV.html#sklearn.model_selection.GridSearchCV\n",
    "- http://scikit-learn.org/stable/modules/model_evaluation.html#scoring-parameter\n",
    "- https://discussions.udacity.com/t/recursive-feature-selection/204051\n",
    "- https://discussions.udacity.com/t/trying-to-hit-over-0-3/196167/2"
   ]
  }
 ],
 "metadata": {
  "kernelspec": {
   "display_name": "Python [Root]",
   "language": "python",
   "name": "Python [Root]"
  },
  "language_info": {
   "codemirror_mode": {
    "name": "ipython",
    "version": 2
   },
   "file_extension": ".py",
   "mimetype": "text/x-python",
   "name": "python",
   "nbconvert_exporter": "python",
   "pygments_lexer": "ipython2",
   "version": "2.7.13"
  }
 },
 "nbformat": 4,
 "nbformat_minor": 2
}
